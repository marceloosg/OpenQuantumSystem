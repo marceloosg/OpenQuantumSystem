{
 "cells": [
  {
   "cell_type": "code",
   "execution_count": 35,
   "metadata": {
    "collapsed": true
   },
   "outputs": [
    {
     "name": "stdout",
     "output_type": "stream",
     "text": [
      "Iteration : 1 out of 50\n"
     ]
    },
    {
     "name": "stdout",
     "output_type": "stream",
     "text": [
      "Iteration : 2 out of 50\n"
     ]
    },
    {
     "name": "stdout",
     "output_type": "stream",
     "text": [
      "Iteration : 3 out of 50\n"
     ]
    },
    {
     "name": "stdout",
     "output_type": "stream",
     "text": [
      "Iteration : 4 out of 50\n"
     ]
    },
    {
     "name": "stdout",
     "output_type": "stream",
     "text": [
      "Iteration : 5 out of 50\n"
     ]
    },
    {
     "name": "stdout",
     "output_type": "stream",
     "text": [
      "Iteration : 6 out of 50\n"
     ]
    },
    {
     "name": "stdout",
     "output_type": "stream",
     "text": [
      "Iteration : 7 out of 50\n"
     ]
    },
    {
     "name": "stdout",
     "output_type": "stream",
     "text": [
      "Iteration : 8 out of 50\n"
     ]
    },
    {
     "name": "stdout",
     "output_type": "stream",
     "text": [
      "Iteration : 9 out of 50\n"
     ]
    },
    {
     "name": "stdout",
     "output_type": "stream",
     "text": [
      "Iteration : 10 out of 50\n"
     ]
    },
    {
     "name": "stdout",
     "output_type": "stream",
     "text": [
      "Iteration : 11 out of 50\n"
     ]
    },
    {
     "name": "stdout",
     "output_type": "stream",
     "text": [
      "Iteration : 12 out of 50\n"
     ]
    },
    {
     "name": "stdout",
     "output_type": "stream",
     "text": [
      "Iteration : 13 out of 50\n"
     ]
    },
    {
     "name": "stdout",
     "output_type": "stream",
     "text": [
      "Iteration : 14 out of 50\n"
     ]
    },
    {
     "name": "stdout",
     "output_type": "stream",
     "text": [
      "Iteration : 15 out of 50\n"
     ]
    },
    {
     "name": "stdout",
     "output_type": "stream",
     "text": [
      "Iteration : 16 out of 50\n"
     ]
    },
    {
     "name": "stdout",
     "output_type": "stream",
     "text": [
      "Iteration : 17 out of 50\n"
     ]
    },
    {
     "name": "stdout",
     "output_type": "stream",
     "text": [
      "Iteration : 18 out of 50\n"
     ]
    },
    {
     "name": "stdout",
     "output_type": "stream",
     "text": [
      "Iteration : 19 out of 50\n"
     ]
    },
    {
     "name": "stdout",
     "output_type": "stream",
     "text": [
      "Iteration : 20 out of 50\n"
     ]
    },
    {
     "name": "stdout",
     "output_type": "stream",
     "text": [
      "Iteration : 21 out of 50\n"
     ]
    },
    {
     "name": "stdout",
     "output_type": "stream",
     "text": [
      "Iteration : 22 out of 50\n"
     ]
    },
    {
     "name": "stdout",
     "output_type": "stream",
     "text": [
      "Iteration : 23 out of 50\n"
     ]
    },
    {
     "name": "stdout",
     "output_type": "stream",
     "text": [
      "Iteration : 24 out of 50\n"
     ]
    },
    {
     "name": "stdout",
     "output_type": "stream",
     "text": [
      "Iteration : 25 out of 50\n"
     ]
    },
    {
     "name": "stdout",
     "output_type": "stream",
     "text": [
      "Iteration : 26 out of 50\n"
     ]
    },
    {
     "name": "stdout",
     "output_type": "stream",
     "text": [
      "Iteration : 27 out of 50\n"
     ]
    },
    {
     "name": "stdout",
     "output_type": "stream",
     "text": [
      "Iteration : 28 out of 50\n"
     ]
    },
    {
     "name": "stdout",
     "output_type": "stream",
     "text": [
      "Iteration : 29 out of 50\n"
     ]
    },
    {
     "name": "stdout",
     "output_type": "stream",
     "text": [
      "Iteration : 30 out of 50\n"
     ]
    },
    {
     "name": "stdout",
     "output_type": "stream",
     "text": [
      "Iteration : 31 out of 50\n"
     ]
    },
    {
     "name": "stdout",
     "output_type": "stream",
     "text": [
      "Iteration : 32 out of 50\n"
     ]
    },
    {
     "name": "stdout",
     "output_type": "stream",
     "text": [
      "Iteration : 33 out of 50\n"
     ]
    },
    {
     "name": "stdout",
     "output_type": "stream",
     "text": [
      "Iteration : 34 out of 50\n"
     ]
    },
    {
     "name": "stdout",
     "output_type": "stream",
     "text": [
      "Iteration : 35 out of 50\n"
     ]
    },
    {
     "name": "stdout",
     "output_type": "stream",
     "text": [
      "Iteration : 36 out of 50\n"
     ]
    },
    {
     "name": "stdout",
     "output_type": "stream",
     "text": [
      "Iteration : 37 out of 50\n"
     ]
    },
    {
     "name": "stdout",
     "output_type": "stream",
     "text": [
      "Iteration : 38 out of 50\n"
     ]
    },
    {
     "name": "stdout",
     "output_type": "stream",
     "text": [
      "Iteration : 39 out of 50\n"
     ]
    },
    {
     "name": "stdout",
     "output_type": "stream",
     "text": [
      "Iteration : 40 out of 50\n"
     ]
    },
    {
     "name": "stdout",
     "output_type": "stream",
     "text": [
      "Iteration : 41 out of 50\n"
     ]
    },
    {
     "name": "stdout",
     "output_type": "stream",
     "text": [
      "Iteration : 42 out of 50\n"
     ]
    },
    {
     "name": "stdout",
     "output_type": "stream",
     "text": [
      "Iteration : 43 out of 50\n"
     ]
    },
    {
     "name": "stdout",
     "output_type": "stream",
     "text": [
      "Iteration : 44 out of 50\n"
     ]
    },
    {
     "name": "stdout",
     "output_type": "stream",
     "text": [
      "Iteration : 45 out of 50\n"
     ]
    },
    {
     "name": "stdout",
     "output_type": "stream",
     "text": [
      "Iteration : 46 out of 50\n"
     ]
    },
    {
     "name": "stdout",
     "output_type": "stream",
     "text": [
      "Iteration : 47 out of 50\n"
     ]
    },
    {
     "name": "stdout",
     "output_type": "stream",
     "text": [
      "Iteration : 48 out of 50\n"
     ]
    },
    {
     "name": "stdout",
     "output_type": "stream",
     "text": [
      "Iteration : 49 out of 50\n"
     ]
    },
    {
     "name": "stdout",
     "output_type": "stream",
     "text": [
      "Iteration : 50 out of 50\n"
     ]
    },
    {
     "data": {
      "image/png": "[encoded data removed]",
      "text/plain": [
       "<Figure size 432x288 with 1 Axes>"
      ]
     },
     "metadata": {},
     "output_type": "display_data"
    }
   ],
   "source": [
    "# %load qubit.py\n",
    "'''Krotov algorithm for Open Quantum Systems! - Version 2.0'''\n",
    "\n",
    "''' \n",
    "\n",
    "d |PSI >> = (-i lambda_1 H_0 - lambda_2^2 L(C)) |PSI>>\n",
    "-\n",
    "dt\n",
    "\n",
    "lambda_1 = lambda_2 ^2\n",
    "'''\n",
    "\n",
    "import matplotlib\n",
    "import scipy.stats\n",
    "import scipy.linalg\n",
    "import scipy.sparse.linalg\n",
    "import numpy as np\n",
    "import matplotlib.pyplot as plt\n",
    "import math\n",
    "import numpy.random as rnd\n",
    "import scipy\n",
    "from scipy.integrate import ode\n",
    "\n",
    "\n",
    "class Krotov:\n",
    "    def __init__(self, k, n_bar, omega, lambda_1, t_i, t_f, num_t, target):\n",
    "\n",
    "        # Hamiltonian\n",
    "        self.k = float(k)\n",
    "        self.n_bar = float(n_bar) # n_bar = 1/(e(wB)-1)\n",
    "        self.omega = float(omega)\n",
    "        self.lambda_1 = float(lambda_1)\n",
    "        self.lambda_2 = np.abs(np.sqrt(lambda_1))\n",
    "        self.t_index = 0\n",
    "        self.num_basis = 2\n",
    "\n",
    "        # Sigma Matrices\n",
    "        self.sigmaX = np.array([[0, 1.], [1., 0]], dtype='complex')\n",
    "        self.sigmaY = np.array([[0, -1.j], [1.j, 0]], dtype='complex')\n",
    "        self.sigmaZ = np.array([[1., 0], [0, -1.]], dtype='complex')\n",
    "        self.I = np.array([[1., 0], [0, 1.]], dtype='complex')\n",
    "        self.sigmaMinus = 0.5 * (self.sigmaX - 1.j * self.sigmaY)\n",
    "        self.sigmaPlus = 0.5 * (self.sigmaX + 1.j * self.sigmaY)\n",
    "\n",
    "        # Time\n",
    "        self.t_i = t_i\n",
    "        self.t_f = t_f\n",
    "        self.num_t = num_t\n",
    "        self.t = np.linspace(self.t_i, self.t_f, self.num_t)\n",
    "        self.dt = self.t[1] - self.t[0]\n",
    "\n",
    "        # Parameters for Krotov\n",
    "        self.set_Para()\n",
    "\n",
    "        # Epsilon\n",
    "        self.Ex = rnd.rand(self.num_t)\n",
    "        # self.Ex = np.zeros((self.num_t,))\n",
    "        self.Ex_tilde = np.zeros((self.num_t,))\n",
    "\n",
    "        # Hamiltonian of the system\n",
    "        self._H_s = 0.5 * self.sigmaZ * self.omega\n",
    "\n",
    "        # Density Matrix\n",
    "        self.col_rho = np.zeros((self.num_t, self.num_basis ** 2), dtype='complex')\n",
    "        self.col_chi = np.zeros((self.num_t, self.num_basis ** 2), dtype='complex')\n",
    "\n",
    "        self._rho_init = self.rho_Init()\n",
    "        self.col_rho[0, :] = self.matrix2col(self._rho_init)\n",
    "\n",
    "        # Thermal or Target State\n",
    "        self.target = target\n",
    "        self.matrix_target_interaction = np.dot(scipy.linalg.expm(1.j * 0.5 * self.omega * self.sigmaZ * self.t[-1]),\n",
    "                                                np.dot(self.col2matrix(self.target),\n",
    "                                                       scipy.linalg.expm(\n",
    "                                                           -1.j * 0.5 * self.omega * self.sigmaZ * self.t[-1])))\n",
    "        self.target_interaction = self.matrix2col(self.matrix_target_interaction)\n",
    "\n",
    "        # Time Independent Lindbladian\n",
    "        self._H_1 = self.H_1()\n",
    "\n",
    "    # Sets the initial field\n",
    "    def set_Ex(self, strng=\"not_zeros\"):\n",
    "        if strng == \"zeros\":\n",
    "            self.Ex = np.zeros((self.num_t,))\n",
    "        else:\n",
    "            self.Ex = rnd.rand(self.num_t)\n",
    "\n",
    "    # Sets initial rho\n",
    "    def set_rho_init(self, array):\n",
    "        self.col_rho[0] = array\n",
    "\n",
    "    # Sets the Krotov Parameters : eta, delta, alpha\n",
    "    def set_Para(self, eta=1., delta=1., alpha=0.0001):\n",
    "        self.eta = eta\n",
    "        self.delta = delta\n",
    "        self.alpha = alpha\n",
    "\n",
    "    # Stacks the columns of a nXn matrix on top of other and makes a column\n",
    "    def matrix2col(self, matrix):\n",
    "        col = np.zeros((0,), dtype='complex')\n",
    "        for i in range(2):\n",
    "            col = np.append(col, matrix[:, i])\n",
    "\n",
    "        return (col)\n",
    "\n",
    "    def col2matrix(self, col):\n",
    "        matrix = np.array([[col[0], col[2]], [col[1], col[3]]], dtype='complex')\n",
    "        return (matrix)\n",
    "\n",
    "    # Default initial rho\n",
    "    def rho_Init(self):\n",
    "        # Z = rnd.rand(2,2) + 1.j * rnd.rand(2,2)\n",
    "        # Z_dagger = np.transpose(np.conjugate(Z))\n",
    "\n",
    "        # trace = np.trace(np.dot(Z,Z_dagger))\n",
    "\n",
    "        # rho = np.dot(Z,Z_dagger) / trace\n",
    "        rho = 0.5 * np.array([[1, 1], [1, 1]], dtype='complex')\n",
    "        # rho = np.array([[1,0],[0,0]],dtype='complex')\n",
    "        return (rho)\n",
    "\n",
    "    def mu_prime(self, t_index):\n",
    "       # mu_prime = - (np.cos(self.omega * t_index * self.dt) * self.sigmaX - np.sin(\n",
    "        #    self.omega * t_index * self.dt) * self.sigmaY)\n",
    "        mu_prime = self.sigmaX\n",
    "        return (mu_prime)\n",
    "\n",
    "    def mu(self, t_index):\n",
    "        mu = np.kron(self.I, self.mu_prime(t_index)) - np.kron(np.conjugate(self.mu_prime(t_index)), self.I)\n",
    "        return (mu)\n",
    "\n",
    "    def H_0(self, t_index):\n",
    "        return (self.mu(t_index) * self.Ex[t_index])\n",
    "\n",
    "    def H_0_tilde(self, t_index):\n",
    "        return (self.mu(t_index) * self.Ex_tilde[t_index])\n",
    "\n",
    "    # L is Lindblad and C is a matrix\n",
    "    def L(self, C):\n",
    "        return (np.kron(np.conjugate(C), C) - 0.5 * (\n",
    "            np.kron(self.I, np.dot(np.conjugate(np.transpose(C)), C))) - 0.5 * (\n",
    "                    np.kron(np.dot(np.transpose(C), np.conjugate(C)), self.I)))\n",
    "\n",
    "    # H_1 : Thermal Lindbladian in Liouville Form\n",
    "    def H_1(self):\n",
    "        return (self.L(np.sqrt(2 * self.k * (1 + self.n_bar)) * self.sigmaMinus) + self.L(\n",
    "            np.sqrt(2 * self.k * self.n_bar) * self.sigmaPlus))\n",
    "\n",
    "    # Final Liouville Space Hamiltonian\n",
    "\n",
    "    def H(self, t_index):\n",
    "        return (-1.j * self.lambda_1 * self.H_0(t_index) + self.lambda_2 ** 2 * self._H_1)\n",
    "\n",
    "    # H_tilde Relative sign was adjusted from - to +\n",
    "    def H_tilde(self, t_index):\n",
    "        return (-1.j * self.lambda_1 * self.H_0_tilde(t_index) + self.lambda_2 ** 2 * self._H_1)\n",
    "\n",
    "    '''\n",
    "\tThe equation becomes \n",
    "\td |PSI >> = H(t) |PSI>>\n",
    "\t-\n",
    "\tdt\n",
    "\n",
    "\tWe solve it by exponentiation!\n",
    "\n",
    "\t|PSI (t+dt)>> = exp(H(t) dt) |Psi(t)>>\n",
    "\t'''\n",
    "\n",
    "    def update_Psi(self, t_index):\n",
    "        t = t_index\n",
    "        column = np.dot(scipy.linalg.expm(self.H(t) * self.dt), self.col_rho[t])\n",
    "        self.col_rho[t + 1] = column\n",
    "\n",
    "    def update_Chi(self, t_index):\n",
    "        t = t_index\n",
    "        column = np.dot(scipy.linalg.expm(np.conjugate(np.transpose(-self.H_tilde(t))) * -self.dt), self.col_chi[t])\n",
    "        self.col_chi[t - 1] = column\n",
    "\n",
    "    # Overlap operator with target state O|PSI>>\n",
    "\n",
    "    def O(self, psi):\n",
    "        return (np.vdot(self.target_interaction, psi) * self.target_interaction)\n",
    "\n",
    "    # Returns <<PSI|O|PSI>>>\n",
    "    def Overlap(self, psi):\n",
    "        return (np.vdot(psi, self.O(psi)))\n",
    "\n",
    "    def update_Epsilon(self, t_index):\n",
    "        t = t_index\n",
    "        part1 = (1 - self.delta) * self.Ex_tilde[t - 1]\n",
    "        part2 = -self.delta * self.lambda_1 * np.imag(\n",
    "            np.vdot(self.col_chi[t - 1], np.dot(self.mu(t), self.col_rho[t]))) / self.alpha\n",
    "        self.Ex[t] = -(part1 + part2)\n",
    "\n",
    "    def update_Epsilon_tilde(self, t_index):\n",
    "        t = t_index\n",
    "        part1 = (1 - self.eta) * self.Ex[t]\n",
    "        part2 = -self.eta * self.lambda_1 * np.imag(\n",
    "            np.vdot(self.col_chi[t], np.dot(self.mu(t), self.col_rho[t]))) / self.alpha\n",
    "        self.Ex_tilde[t] = -(part1 + part2)\n",
    "\n",
    "    def evolution_Psi(self, string='not initial'):\n",
    "        if string == 'initial':\n",
    "            for t in range(0, self.num_t - 1):\n",
    "                self.update_Psi(t)\n",
    "        else:\n",
    "            for t in range(0, self.num_t - 1):\n",
    "                self.update_Epsilon(t)\n",
    "                self.update_Psi(t)\n",
    "            t = self.num_t - 1\n",
    "            self.update_Epsilon(t)\n",
    "\n",
    "    def evolution_Chi(self):\n",
    "        for t in range(self.num_t - 1, 0, -1):\n",
    "            self.update_Epsilon_tilde(t)\n",
    "            self.update_Chi(t)\n",
    "        t = 0\n",
    "        self.update_Epsilon_tilde(t)\n",
    "\n",
    "    def Run_Krotov(self, num_iter):\n",
    "        T = self.num_t - 1\n",
    "        self.evolution_Psi('initial')\n",
    "\n",
    "        self.overlap = []\n",
    "        self.cost = []\n",
    "        self.oint = []\n",
    "\n",
    "        for i in range(0, num_iter):\n",
    "            print(\"Iteration : {} out of {}\".format(i + 1, num_iter))\n",
    "            self.col_chi[T] = self.O(self.col_rho[T])\n",
    "            self.evolution_Chi()\n",
    "            self.evolution_Psi()\n",
    "            self.overlap.append(self.Overlap(self.col_rho[T]))\n",
    "            self.oint.append(self.Overlap_Integral())\n",
    "            self.cost.append(self.J())\n",
    "\n",
    "    def distance(self,\n",
    "                 t_index):  # Since trace distance is invariant to unitary transformation, the CIP doesnt change its value.\n",
    "        t = t_index\n",
    "        matrix = self.col2matrix(self.col_rho[t])\n",
    "        diff = self.col2matrix(self.target_interaction) - matrix\n",
    "        trace_d = np.trace(scipy.linalg.sqrtm(np.dot(diff, np.conjugate(np.transpose(diff)))))\n",
    "        return (0.5 * trace_d)\n",
    "\n",
    "    def anal_distance(self, r_fp, rx, ry, rz, t_f, N_iterations, lamda):  # Analytical distance from exact solution.\n",
    "        Gamma = lamda\n",
    "        G1 = Gamma / (2.0 * r_fp)  # the 1e-44 is there to prevent the zero temperature case from throwing an exception.\n",
    "        G2 = 2.0 * G1  # Gamma/r_fp # 2 gamma1\n",
    "        t = np.linspace(0, t_f, N_iterations)\n",
    "        dampt = np.exp(-G1 * t)\n",
    "        damp2t = np.exp(-G2 * t)\n",
    "        sqrt_fn = np.sqrt((rx ** 2) + (ry ** 2) + ((rz + r_fp) * (rz + r_fp) * damp2t))\n",
    "        anal_d = (dampt * sqrt_fn)\n",
    "        return (0.5 * anal_d)\n",
    "\n",
    "    def Overlap_Integral(self):\n",
    "        T_index = self.num_t - 1\n",
    "\n",
    "        ket = self.col_rho[T_index]\n",
    "        bra = ket\n",
    "        newKet = self.O(ket)\n",
    "\n",
    "        val = np.vdot(bra, newKet)\n",
    "\n",
    "        return (val)\n",
    "\n",
    "    # Cost Function J\n",
    "    def J(self):\n",
    "        integration = scipy.integrate.simps(self.Ex ** 2, x=self.t, dx=self.dt)\n",
    "\n",
    "        J = integration\n",
    "\n",
    "        return (J)\n",
    "\n",
    "\n",
    "def T_epsilon_free(gamma, n_bar, epsilon, initial_rho):\n",
    "    r_fp = 1 / (2 * n_bar + 1)\n",
    "    gamma2 = gamma / r_fp\n",
    "    rho0 = initial_rho\n",
    "    I = np.array([[1, 0], [0, 1]])\n",
    "\n",
    "    r = 2 * rho0 - I\n",
    "    rz_0 = r[0, 0]\n",
    "    rx_0 = np.real(r[0, 1])\n",
    "    ry_0 = np.imag(r[0, 1])\n",
    "\n",
    "    alpha = rx_0 ** 2 + ry_0 ** 2\n",
    "    beta = rz_0 + r_fp\n",
    "\n",
    "    T_e_free = np.log((-alpha ** 2 + np.sqrt(alpha ** 4 - 16 * epsilon * beta ** 2)) / (2 * beta ** 2) / (-gamma2))\n",
    "\n",
    "    return (T_e_free)\n",
    "\n",
    "\n",
    "def T_final(T_e_free, s):\n",
    "    return (T_e_free / s)\n",
    "\n",
    "\n",
    "if __name__ == '__main__':\n",
    "    # INTITIALIZE : k,n_bar,omega,lambda_1,t_i,t_f,t_num,target\n",
    "\n",
    "    kappa = 1  # WE have lambda, so set Kappa to 1.\n",
    "    n_bar = 1  # Being FLOAT is VERY IMPORTANT\n",
    "    # n_bar = 1/(exp(wB)-1)\n",
    "    # log(1/n_bar+1) = wB\n",
    "    omega = 1\n",
    "    lamda = 1\n",
    "    N_iterations = 2000\n",
    "    target = np.array([0.4, 0, 0, 0.6], dtype='complex')\n",
    "    #nbar/nbar+1 = 2/3 -> 3nbar= 2nbar+2 -> nbar = 2\n",
    "    times_krotov = 50\n",
    "\n",
    "    beta1 = np.log((n_bar + 1) / n_bar)/omega\n",
    "\n",
    "    #beta1 = np.log((n_bar + 1) / n_bar)  # w1*beta1 = f(n_bar) w1: is set to 1\n",
    "    #beta2 = beta1 / 0.75\n",
    "    #w1 = 1.  # Don't change from 1 , otherwise beta1 != n_bar+1 / n_bar\n",
    "    #w2 = 0.25 * w1\n",
    "#    n_initial = 1 / (np.e ** (beta2 * w2) - 1)\n",
    "#    initial_rho = np.array([[(n_initial) / (2 * n_initial + 1), 0], [0, (n_initial + 1) / (2 * n_initial + 1)]],\n",
    "#                           dtype='complex')\n",
    "\n",
    "    initial_rho = np.array([[0.5, -0.19j], [0.19j, 0.5]], dtype='complex')\n",
    "    # 0.5 -+ sqrt(0.25-0,0361)\n",
    "    # 0.7139 2861\n",
    "    # 0.8nbar = 0.2 -> nbar = 1/4\n",
    "    epsilon = .01\n",
    "\n",
    "    T_e_free = np.abs(T_epsilon_free(lamda, n_bar, epsilon, initial_rho))\n",
    "    _s = 2.\n",
    "    t_f = T_e_free / _s\n",
    "\n",
    "    ''' Krotov With Control '''  ######################################\n",
    "    k = Krotov(kappa, n_bar, omega, lamda, 0, t_f, N_iterations, target)  #\n",
    "    k.set_rho_init(k.matrix2col(initial_rho))  #\n",
    "    k.set_Ex(\"random\")  #\n",
    "    k.set_Para(eta=1.5, delta=1.5, alpha=0.001)  #\n",
    "    k.Run_Krotov(times_krotov)  #\n",
    "    #################################################################\n",
    "\n",
    "\n",
    "    plt.plot(range(times_krotov), np.array(k.cost), 'r')\n",
    "    plt.savefig('mar-cost.png')\n",
    "# WITH    KROTOV\n"
   ]
  },
  {
   "cell_type": "code",
   "execution_count": 36,
   "metadata": {},
   "outputs": [],
   "source": [
    "j=np.absolute(k.overlap)-np.array(k.cost)*k.alpha"
   ]
  },
  {
   "cell_type": "code",
   "execution_count": 37,
   "metadata": {},
   "outputs": [
    {
     "data": {
      "text/plain": [
       "[<matplotlib.lines.Line2D at 0x7f92a82c62d0>]"
      ]
     },
     "execution_count": 37,
     "metadata": {},
     "output_type": "execute_result"
    },
    {
     "data": {
      "image/png": "[encoded data removed]",
      "text/plain": [
       "<Figure size 432x288 with 1 Axes>"
      ]
     },
     "metadata": {},
     "output_type": "display_data"
    }
   ],
   "source": [
    "plt.plot(range(times_krotov), j, 'r')"
   ]
  },
  {
   "cell_type": "code",
   "execution_count": 11,
   "metadata": {},
   "outputs": [
    {
     "data": {
      "text/plain": [
       "(0.28400390416295235+0j)"
      ]
     },
     "execution_count": 11,
     "metadata": {},
     "output_type": "execute_result"
    }
   ],
   "source": [
    "k.Overlap_Integral()"
   ]
  },
  {
   "cell_type": "code",
   "execution_count": 15,
   "metadata": {},
   "outputs": [
    {
     "data": {
      "text/plain": [
       "array([-6.61006776e+01, -1.66023502e+01, -4.16542656e+00, -1.03869552e+00,\n       -2.52248060e-01, -5.41539724e-02, -3.98965625e-03,  8.97802749e-03,\n        1.25936671e-02,  1.38599596e-02,  1.45383408e-02,  1.50720152e-02,\n        1.55725944e-02,  1.60682692e-02,  1.65662415e-02,  1.70684326e-02,\n        1.75754353e-02,  1.80875095e-02,  1.86048320e-02,  1.91275602e-02,\n        1.96558473e-02,  2.01898470e-02,  2.07297142e-02,  2.12756051e-02,\n        2.18276781e-02,  2.23860927e-02,  2.29510107e-02,  2.35225955e-02,\n        2.41010124e-02,  2.46864284e-02,  2.52790129e-02,  2.58789370e-02,\n        2.64863738e-02,  2.71014987e-02,  2.77244892e-02,  2.83555249e-02,\n        2.89947878e-02,  2.96424620e-02,  3.02987341e-02,  3.09637930e-02,\n        3.16378303e-02,  3.23210397e-02,  3.30136177e-02,  3.37157634e-02,\n        3.44276786e-02,  3.51495677e-02,  3.58816379e-02,  3.66240993e-02,\n        3.73771648e-02,  3.81410503e-02,  3.89159748e-02,  3.97021602e-02,\n        4.04998316e-02,  4.13092172e-02,  4.21305487e-02,  4.29640608e-02,\n        4.38099919e-02,  4.46685835e-02,  4.55400809e-02,  4.64247328e-02,\n        4.73227917e-02,  4.82345137e-02,  4.91601588e-02,  5.00999908e-02,\n        5.10542774e-02,  5.20232903e-02,  5.30073056e-02,  5.40066032e-02,\n        5.50214674e-02,  5.60521869e-02,  5.70990548e-02,  5.81623686e-02,\n        5.92424306e-02,  6.03395476e-02,  6.14540315e-02,  6.25861986e-02,\n        6.37363707e-02,  6.49048744e-02,  6.60920414e-02,  6.72982091e-02,\n        6.85237200e-02,  6.97689222e-02,  7.10341694e-02,  7.23198213e-02,\n        7.36262432e-02,  7.49538066e-02,  7.63028893e-02,  7.76738751e-02,\n        7.90671545e-02,  8.04831245e-02,  8.19221890e-02,  8.33847587e-02,\n        8.48712515e-02,  8.63820924e-02,  8.79177143e-02,  8.94785573e-02,\n        9.10650696e-02,  9.26777075e-02,  9.43169357e-02,  9.59832271e-02,\n        9.76770637e-02,  9.93989366e-02,  1.01149346e-01,  1.02928801e-01,\n        1.04737823e-01,  1.06576940e-01,  1.08446694e-01,  1.10347635e-01,\n        1.12280327e-01,  1.14245343e-01,  1.16243268e-01,  1.18274703e-01,\n        1.20340257e-01,  1.22440556e-01,  1.24576237e-01,  1.26747953e-01,\n        1.28956371e-01,  1.31202174e-01,  1.33486060e-01,  1.35808743e-01,\n        1.38170956e-01,  1.40573447e-01,  1.43016986e-01,  1.45502359e-01,\n        1.48030373e-01,  1.50601855e-01,  1.53217655e-01,  1.55878643e-01,\n        1.58585714e-01,  1.61339786e-01,  1.64141801e-01,  1.66992730e-01,\n        1.69893566e-01,  1.72845333e-01,  1.75849083e-01,  1.78905898e-01,\n        1.82016890e-01,  1.85183202e-01,  1.88406012e-01,  1.91686530e-01,\n        1.95026002e-01,  1.98425708e-01,  2.01886967e-01,  2.05411133e-01,\n        2.08999600e-01,  2.12653801e-01,  2.16375210e-01,  2.20165338e-01,\n        2.24025741e-01,  2.27958012e-01,  2.31963790e-01,  2.36044750e-01,\n        2.40202611e-01,  2.44439130e-01,  2.48756105e-01,  2.53155369e-01,\n        2.57638793e-01,  2.62208279e-01,  2.66865761e-01,  2.71613197e-01,\n        2.76452569e-01,  2.81385875e-01,  2.86415122e-01,  2.91542319e-01,\n        2.96769467e-01,  3.02098550e-01,  3.07531516e-01,  3.13070268e-01,\n        3.18716637e-01,  3.24472365e-01,  3.30339066e-01,  3.36318200e-01,\n        3.42411014e-01,  3.48618489e-01,  3.54941254e-01,  3.61379479e-01,\n        3.67932722e-01,  3.74599716e-01,  3.81378061e-01,  3.88263769e-01,\n        3.95250566e-01,  4.02328824e-01,  4.09483841e-01,  4.16693063e-01,\n        4.23921436e-01,  4.31113467e-01,  4.38179319e-01,  4.44969800e-01,\n        4.51230157e-01,  4.56512266e-01,  4.60002658e-01,  4.60174954e-01,\n        4.54063581e-01,  4.35691330e-01,  3.92534612e-01,  2.97253504e-01,\n        8.75029927e-02, -3.85626319e-01, -1.49561198e+00, -4.22607775e+00])"
      ]
     },
     "execution_count": 15,
     "metadata": {},
     "output_type": "execute_result"
    }
   ],
   "source": [
    "k.Ex"
   ]
  },
  {
   "cell_type": "code",
   "execution_count": null,
   "metadata": {},
   "outputs": [],
   "source": []
  }
 ],
 "metadata": {
  "kernelspec": {
   "display_name": "Python 2",
   "language": "python",
   "name": "python2"
  },
  "language_info": {
   "codemirror_mode": {
    "name": "ipython",
    "version": 2
   },
   "file_extension": ".py",
   "mimetype": "text/x-python",
   "name": "python",
   "nbconvert_exporter": "python",
   "pygments_lexer": "ipython2",
   "version": "2.7.6"
  }
 },
 "nbformat": 4,
 "nbformat_minor": 0
}
